{
  "cells": [
    {
      "cell_type": "markdown",
      "metadata": {
        "id": "5YNIISPploTY"
      },
      "source": [
        "_____\n",
        "**Write a program to create an array [10, 5, 7, 20, 15, -9, 33], print it, Find the maximum and minimum Value of the array**"
      ]
    },
    {
      "cell_type": "code",
      "execution_count": null,
      "metadata": {
        "id": "LGwQ0y0wloTY",
        "colab": {
          "base_uri": "https://localhost:8080/"
        },
        "outputId": "f059ee60-e983-4caa-fc66-31cd68924d1d"
      },
      "outputs": [
        {
          "output_type": "stream",
          "name": "stdout",
          "text": [
            "Array: [10  5  7 20 15 -9 33]\n",
            "Maximum value: 33\n",
            "Minimum value: -9\n"
          ]
        }
      ],
      "source": [
        "#Code here\n",
        "import numpy as np\n",
        "\n",
        "# Code here\n",
        "arr = np.array([10, 5, 7, 20, 15, -9, 33])\n",
        "print(\"Array:\", arr)\n",
        "print(\"Maximum value:\", np.max(arr))\n",
        "print(\"Minimum value:\", np.min(arr))\n"
      ]
    },
    {
      "cell_type": "markdown",
      "metadata": {
        "id": "CjKQrl4ZloTY"
      },
      "source": [
        "______\n",
        "**Write a program to accept an array of elements and find the maximum without using max function**"
      ]
    },
    {
      "cell_type": "code",
      "execution_count": null,
      "metadata": {
        "id": "jFqGo32uloTY",
        "colab": {
          "base_uri": "https://localhost:8080/"
        },
        "outputId": "7aba812c-b7f8-4b9e-85e1-a12cf6257faa"
      },
      "outputs": [
        {
          "output_type": "stream",
          "name": "stdout",
          "text": [
            "Enter array elements separated by space: 1 4 5 7 8\n",
            "Maximum value: 8\n"
          ]
        }
      ],
      "source": [
        "#Code here\n",
        "arr = list(map(int, input(\"Enter array elements separated by space: \").split()))\n",
        "max_val = arr[0]\n",
        "\n",
        "for num in arr[1:]:\n",
        "    if num > max_val:\n",
        "        max_val = num\n",
        "\n",
        "print(\"Maximum value:\", max_val)\n"
      ]
    },
    {
      "cell_type": "markdown",
      "metadata": {
        "id": "V1Tbn_avloTY"
      },
      "source": [
        "___\n",
        "**Write a program to accept two matrices [[1,2],[3,4]],   [[2,4],[6,8]]and find the sum and subtraction of two matrices**"
      ]
    },
    {
      "cell_type": "code",
      "execution_count": null,
      "metadata": {
        "id": "jyu705aKloTZ",
        "colab": {
          "base_uri": "https://localhost:8080/"
        },
        "outputId": "f8db9e39-35bc-4ac4-f642-04a94e382e84"
      },
      "outputs": [
        {
          "output_type": "stream",
          "name": "stdout",
          "text": [
            "Matrix A:\n",
            " [[1 2]\n",
            " [3 4]]\n",
            "Matrix B:\n",
            " [[2 4]\n",
            " [6 8]]\n",
            "Sum:\n",
            " [[ 3  6]\n",
            " [ 9 12]]\n",
            "Subtraction:\n",
            " [[-1 -2]\n",
            " [-3 -4]]\n"
          ]
        }
      ],
      "source": [
        "#Code here\n",
        "import numpy as np\n",
        "\n",
        "A = np.array([[1, 2], [3, 4]])\n",
        "B = np.array([[2, 4], [6, 8]])\n",
        "\n",
        "sum_matrix = A + B\n",
        "sub_matrix = A - B\n",
        "\n",
        "print(\"Matrix A:\\n\", A)\n",
        "print(\"Matrix B:\\n\", B)\n",
        "print(\"Sum:\\n\", sum_matrix)\n",
        "print(\"Subtraction:\\n\", sub_matrix)\n"
      ]
    },
    {
      "cell_type": "markdown",
      "metadata": {
        "id": "e8iqIwlxloTZ"
      },
      "source": [
        "___\n",
        "**Write a program to generate a ranodom matrix of size 5 X 6. Add another row containing random elements to it. Find the sum of each row.**"
      ]
    },
    {
      "cell_type": "code",
      "execution_count": 2,
      "metadata": {
        "id": "RFvvJzj3loTZ",
        "colab": {
          "base_uri": "https://localhost:8080/"
        },
        "outputId": "e1d01830-0bf6-43ee-e6e2-8f7cbb9971cf"
      },
      "outputs": [
        {
          "output_type": "stream",
          "name": "stdout",
          "text": [
            "Matrix:\n",
            " [[81 10 94 37 71 98]\n",
            " [16 64 69 16 78 89]\n",
            " [32 14 76  8 47  4]\n",
            " [88 30 33 85 40 26]\n",
            " [94 81 74  9 94 70]\n",
            " [38 72 25 43 91 78]]\n",
            "Row-wise sum: [391 332 181 302 422 347]\n"
          ]
        }
      ],
      "source": [
        "#Code here\n",
        "import numpy as np\n",
        "\n",
        "matrix = np.random.randint(1, 100, (5, 6))\n",
        "new_row = np.random.randint(1, 100, (1, 6))\n",
        "updated_matrix = np.vstack([matrix, new_row])\n",
        "row_sums = np.sum(updated_matrix, axis=1)\n",
        "\n",
        "print(\"Matrix:\\n\", updated_matrix)\n",
        "print(\"Row-wise sum:\", row_sums)\n"
      ]
    },
    {
      "cell_type": "markdown",
      "metadata": {
        "id": "CIhpDElPloTZ"
      },
      "source": [
        "___\n",
        "**Write a program to generate a ranodm integer matrix of size 5 X 6. Add another column containing random integers to it. Compute the sine of each element and print it**"
      ]
    },
    {
      "cell_type": "code",
      "execution_count": null,
      "metadata": {
        "id": "HXJgYMTDloTZ",
        "colab": {
          "base_uri": "https://localhost:8080/"
        },
        "outputId": "b194ec93-ab35-4841-db06-e121610a5266"
      },
      "outputs": [
        {
          "output_type": "stream",
          "name": "stdout",
          "text": [
            "Updated Matrix:\n",
            " [[10 96 87 89 92  1 37]\n",
            " [67 80  5 71 85 10 34]\n",
            " [51  4  9 33 57 54 14]\n",
            " [86 76 77  7 40  7 87]\n",
            " [74 26 44  1  6 11 52]]\n",
            "Sine of each element:\n",
            " [[0.17364818 0.9945219  0.99862953 0.9998477  0.99939083 0.01745241\n",
            "  0.60181502]\n",
            " [0.92050485 0.98480775 0.08715574 0.94551858 0.9961947  0.17364818\n",
            "  0.5591929 ]\n",
            " [0.77714596 0.06975647 0.15643447 0.54463904 0.83867057 0.80901699\n",
            "  0.2419219 ]\n",
            " [0.99756405 0.97029573 0.97437006 0.12186934 0.64278761 0.12186934\n",
            "  0.99862953]\n",
            " [0.9612617  0.43837115 0.69465837 0.01745241 0.10452846 0.190809\n",
            "  0.78801075]]\n"
          ]
        }
      ],
      "source": [
        "#Code here\n",
        "import numpy as np\n",
        "\n",
        "matrix = np.random.randint(1, 100, (5, 6))\n",
        "new_col = np.random.randint(1, 100, (5, 1))\n",
        "updated_matrix = np.hstack([matrix, new_col])\n",
        "sine_matrix = np.sin(np.radians(updated_matrix))\n",
        "\n",
        "print(\"Updated Matrix:\\n\", updated_matrix)\n",
        "print(\"Sine of each element:\\n\", sine_matrix)\n"
      ]
    },
    {
      "cell_type": "markdown",
      "metadata": {
        "id": "-St006l8loTZ"
      },
      "source": [
        "___\n",
        "**Write a program to generate a ranodm matrix of size 5 X 6. Consider the 3rd and 4th row; and 2nd, 3rd and 4th column and print the resultant matrix using slicing**"
      ]
    },
    {
      "cell_type": "code",
      "execution_count": null,
      "metadata": {
        "id": "SUSwF0zRloTZ",
        "colab": {
          "base_uri": "https://localhost:8080/"
        },
        "outputId": "024d71eb-e8a3-40a1-d639-2d74fa0e55af"
      },
      "outputs": [
        {
          "output_type": "stream",
          "name": "stdout",
          "text": [
            "Original Matrix:\n",
            " [[59 87 63 69 64 60]\n",
            " [49 84 52 64 15 23]\n",
            " [89  6 86 85  4 39]\n",
            " [21  8 99  4 88 41]\n",
            " [20 72 78  1 87 56]]\n",
            "Sliced Matrix (3rd-4th row, 2nd-4th col):\n",
            " [[ 6 86 85]\n",
            " [ 8 99  4]]\n"
          ]
        }
      ],
      "source": [
        "#Code here\n",
        "import numpy as np\n",
        "matrix = np.random.randint(1, 100, (5, 6))\n",
        "sliced_matrix = matrix[2:4, 1:4]  # 3rd & 4th rows → index 2:4, 2nd–4th cols → 1:4\n",
        "\n",
        "print(\"Original Matrix:\\n\", matrix)\n",
        "print(\"Sliced Matrix (3rd-4th row, 2nd-4th col):\\n\", sliced_matrix)\n"
      ]
    },
    {
      "cell_type": "markdown",
      "metadata": {
        "id": "np6xZQWTloTa"
      },
      "source": [
        "### Great Job!"
      ]
    },
    {
      "cell_type": "code",
      "source": [],
      "metadata": {
        "id": "88HMjkMtryHt"
      },
      "execution_count": null,
      "outputs": []
    }
  ],
  "metadata": {
    "kernelspec": {
      "display_name": "Python 3 (ipykernel)",
      "language": "python",
      "name": "python3"
    },
    "language_info": {
      "codemirror_mode": {
        "name": "ipython",
        "version": 3
      },
      "file_extension": ".py",
      "mimetype": "text/x-python",
      "name": "python",
      "nbconvert_exporter": "python",
      "pygments_lexer": "ipython3",
      "version": "3.11.7"
    },
    "colab": {
      "provenance": []
    }
  },
  "nbformat": 4,
  "nbformat_minor": 0
}