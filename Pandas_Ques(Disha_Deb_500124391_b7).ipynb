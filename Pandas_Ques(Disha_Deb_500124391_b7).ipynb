{
  "cells": [
    {
      "cell_type": "markdown",
      "metadata": {
        "id": "qcV0GNfbm2MC"
      },
      "source": [
        "______\n",
        "**1. Write a program to initialize a dictionary (of your choice) and create a pandas DataFrame from it. Print the dataframe?**"
      ]
    },
    {
      "cell_type": "code",
      "execution_count": null,
      "metadata": {
        "id": "b8TpzXd5m2MD",
        "colab": {
          "base_uri": "https://localhost:8080/"
        },
        "outputId": "c02364f7-3862-48a2-b074-97c5e5d3dadc"
      },
      "outputs": [
        {
          "output_type": "stream",
          "name": "stdout",
          "text": [
            "1. DataFrame from Dictionary:\n",
            "       Name  Age     City\n",
            "0    Alice   25       NY\n",
            "1      Bob   30       LA\n",
            "2  Charlie   22  Chicago\n"
          ]
        }
      ],
      "source": [
        "#Code here\n",
        "import pandas as pd\n",
        "import numpy as np\n",
        "data = {'Name': ['Alice', 'Bob', 'Charlie'], 'Age': [25, 30, 22], 'City': ['NY', 'LA', 'Chicago']}\n",
        "df_dict = pd.DataFrame(data)\n",
        "print(\"1. DataFrame from Dictionary:\\n\", df_dict)"
      ]
    },
    {
      "cell_type": "markdown",
      "metadata": {
        "id": "TKhMaxxZm2MD"
      },
      "source": [
        "___\n",
        "**2. Write a program to read the CSV file \"summer.csv\" into a pandas DataFrame \"df\", display the first 5 rows, and print the DataFrame's shape**"
      ]
    },
    {
      "cell_type": "code",
      "execution_count": null,
      "metadata": {
        "id": "X3KlxWcfm2MD",
        "colab": {
          "base_uri": "https://localhost:8080/",
          "height": 351
        },
        "outputId": "d319f85d-6ca3-4105-9374-61c093e4c202"
      },
      "outputs": [
        {
          "output_type": "display_data",
          "data": {
            "text/plain": [
              "<IPython.core.display.HTML object>"
            ],
            "text/html": [
              "\n",
              "     <input type=\"file\" id=\"files-98ae48b2-7734-4516-b66b-702c9d0eca8a\" name=\"files[]\" multiple disabled\n",
              "        style=\"border:none\" />\n",
              "     <output id=\"result-98ae48b2-7734-4516-b66b-702c9d0eca8a\">\n",
              "      Upload widget is only available when the cell has been executed in the\n",
              "      current browser session. Please rerun this cell to enable.\n",
              "      </output>\n",
              "      <script>// Copyright 2017 Google LLC\n",
              "//\n",
              "// Licensed under the Apache License, Version 2.0 (the \"License\");\n",
              "// you may not use this file except in compliance with the License.\n",
              "// You may obtain a copy of the License at\n",
              "//\n",
              "//      http://www.apache.org/licenses/LICENSE-2.0\n",
              "//\n",
              "// Unless required by applicable law or agreed to in writing, software\n",
              "// distributed under the License is distributed on an \"AS IS\" BASIS,\n",
              "// WITHOUT WARRANTIES OR CONDITIONS OF ANY KIND, either express or implied.\n",
              "// See the License for the specific language governing permissions and\n",
              "// limitations under the License.\n",
              "\n",
              "/**\n",
              " * @fileoverview Helpers for google.colab Python module.\n",
              " */\n",
              "(function(scope) {\n",
              "function span(text, styleAttributes = {}) {\n",
              "  const element = document.createElement('span');\n",
              "  element.textContent = text;\n",
              "  for (const key of Object.keys(styleAttributes)) {\n",
              "    element.style[key] = styleAttributes[key];\n",
              "  }\n",
              "  return element;\n",
              "}\n",
              "\n",
              "// Max number of bytes which will be uploaded at a time.\n",
              "const MAX_PAYLOAD_SIZE = 100 * 1024;\n",
              "\n",
              "function _uploadFiles(inputId, outputId) {\n",
              "  const steps = uploadFilesStep(inputId, outputId);\n",
              "  const outputElement = document.getElementById(outputId);\n",
              "  // Cache steps on the outputElement to make it available for the next call\n",
              "  // to uploadFilesContinue from Python.\n",
              "  outputElement.steps = steps;\n",
              "\n",
              "  return _uploadFilesContinue(outputId);\n",
              "}\n",
              "\n",
              "// This is roughly an async generator (not supported in the browser yet),\n",
              "// where there are multiple asynchronous steps and the Python side is going\n",
              "// to poll for completion of each step.\n",
              "// This uses a Promise to block the python side on completion of each step,\n",
              "// then passes the result of the previous step as the input to the next step.\n",
              "function _uploadFilesContinue(outputId) {\n",
              "  const outputElement = document.getElementById(outputId);\n",
              "  const steps = outputElement.steps;\n",
              "\n",
              "  const next = steps.next(outputElement.lastPromiseValue);\n",
              "  return Promise.resolve(next.value.promise).then((value) => {\n",
              "    // Cache the last promise value to make it available to the next\n",
              "    // step of the generator.\n",
              "    outputElement.lastPromiseValue = value;\n",
              "    return next.value.response;\n",
              "  });\n",
              "}\n",
              "\n",
              "/**\n",
              " * Generator function which is called between each async step of the upload\n",
              " * process.\n",
              " * @param {string} inputId Element ID of the input file picker element.\n",
              " * @param {string} outputId Element ID of the output display.\n",
              " * @return {!Iterable<!Object>} Iterable of next steps.\n",
              " */\n",
              "function* uploadFilesStep(inputId, outputId) {\n",
              "  const inputElement = document.getElementById(inputId);\n",
              "  inputElement.disabled = false;\n",
              "\n",
              "  const outputElement = document.getElementById(outputId);\n",
              "  outputElement.innerHTML = '';\n",
              "\n",
              "  const pickedPromise = new Promise((resolve) => {\n",
              "    inputElement.addEventListener('change', (e) => {\n",
              "      resolve(e.target.files);\n",
              "    });\n",
              "  });\n",
              "\n",
              "  const cancel = document.createElement('button');\n",
              "  inputElement.parentElement.appendChild(cancel);\n",
              "  cancel.textContent = 'Cancel upload';\n",
              "  const cancelPromise = new Promise((resolve) => {\n",
              "    cancel.onclick = () => {\n",
              "      resolve(null);\n",
              "    };\n",
              "  });\n",
              "\n",
              "  // Wait for the user to pick the files.\n",
              "  const files = yield {\n",
              "    promise: Promise.race([pickedPromise, cancelPromise]),\n",
              "    response: {\n",
              "      action: 'starting',\n",
              "    }\n",
              "  };\n",
              "\n",
              "  cancel.remove();\n",
              "\n",
              "  // Disable the input element since further picks are not allowed.\n",
              "  inputElement.disabled = true;\n",
              "\n",
              "  if (!files) {\n",
              "    return {\n",
              "      response: {\n",
              "        action: 'complete',\n",
              "      }\n",
              "    };\n",
              "  }\n",
              "\n",
              "  for (const file of files) {\n",
              "    const li = document.createElement('li');\n",
              "    li.append(span(file.name, {fontWeight: 'bold'}));\n",
              "    li.append(span(\n",
              "        `(${file.type || 'n/a'}) - ${file.size} bytes, ` +\n",
              "        `last modified: ${\n",
              "            file.lastModifiedDate ? file.lastModifiedDate.toLocaleDateString() :\n",
              "                                    'n/a'} - `));\n",
              "    const percent = span('0% done');\n",
              "    li.appendChild(percent);\n",
              "\n",
              "    outputElement.appendChild(li);\n",
              "\n",
              "    const fileDataPromise = new Promise((resolve) => {\n",
              "      const reader = new FileReader();\n",
              "      reader.onload = (e) => {\n",
              "        resolve(e.target.result);\n",
              "      };\n",
              "      reader.readAsArrayBuffer(file);\n",
              "    });\n",
              "    // Wait for the data to be ready.\n",
              "    let fileData = yield {\n",
              "      promise: fileDataPromise,\n",
              "      response: {\n",
              "        action: 'continue',\n",
              "      }\n",
              "    };\n",
              "\n",
              "    // Use a chunked sending to avoid message size limits. See b/62115660.\n",
              "    let position = 0;\n",
              "    do {\n",
              "      const length = Math.min(fileData.byteLength - position, MAX_PAYLOAD_SIZE);\n",
              "      const chunk = new Uint8Array(fileData, position, length);\n",
              "      position += length;\n",
              "\n",
              "      const base64 = btoa(String.fromCharCode.apply(null, chunk));\n",
              "      yield {\n",
              "        response: {\n",
              "          action: 'append',\n",
              "          file: file.name,\n",
              "          data: base64,\n",
              "        },\n",
              "      };\n",
              "\n",
              "      let percentDone = fileData.byteLength === 0 ?\n",
              "          100 :\n",
              "          Math.round((position / fileData.byteLength) * 100);\n",
              "      percent.textContent = `${percentDone}% done`;\n",
              "\n",
              "    } while (position < fileData.byteLength);\n",
              "  }\n",
              "\n",
              "  // All done.\n",
              "  yield {\n",
              "    response: {\n",
              "      action: 'complete',\n",
              "    }\n",
              "  };\n",
              "}\n",
              "\n",
              "scope.google = scope.google || {};\n",
              "scope.google.colab = scope.google.colab || {};\n",
              "scope.google.colab._files = {\n",
              "  _uploadFiles,\n",
              "  _uploadFilesContinue,\n",
              "};\n",
              "})(self);\n",
              "</script> "
            ]
          },
          "metadata": {}
        },
        {
          "output_type": "stream",
          "name": "stdout",
          "text": [
            "Saving summer.csv to summer.csv\n",
            "\n",
            "2. First 5 rows:\n",
            "    Year    City     Sport Discipline             Athlete Country Gender  \\\n",
            "0  1896  Athens  Aquatics   Swimming       HAJOS, Alfred     HUN    Men   \n",
            "1  1896  Athens  Aquatics   Swimming    HERSCHMANN, Otto     AUT    Men   \n",
            "2  1896  Athens  Aquatics   Swimming   DRIVAS, Dimitrios     GRE    Men   \n",
            "3  1896  Athens  Aquatics   Swimming  MALOKINIS, Ioannis     GRE    Men   \n",
            "4  1896  Athens  Aquatics   Swimming  CHASAPIS, Spiridon     GRE    Men   \n",
            "\n",
            "                        Event   Medal  \n",
            "0              100M Freestyle    Gold  \n",
            "1              100M Freestyle  Silver  \n",
            "2  100M Freestyle For Sailors  Bronze  \n",
            "3  100M Freestyle For Sailors    Gold  \n",
            "4  100M Freestyle For Sailors  Silver  \n",
            "Shape: (31165, 9)\n"
          ]
        }
      ],
      "source": [
        "#Code here\n",
        "from google.colab import files\n",
        "uploaded = files.upload()\n",
        "import pandas as pd\n",
        "import matplotlib.pyplot as plt\n",
        "\n",
        "df = pd.read_csv('summer.csv')\n",
        "print(\"\\n2. First 5 rows:\\n\", df.head())\n",
        "print(\"Shape:\", df.shape)"
      ]
    },
    {
      "cell_type": "markdown",
      "metadata": {
        "id": "hhREPppvm2MD"
      },
      "source": [
        "___\n",
        "**3. Write a program to display the last 10 rows of the DataFrame?**"
      ]
    },
    {
      "cell_type": "code",
      "execution_count": null,
      "metadata": {
        "id": "0LMVJXRPm2ME",
        "colab": {
          "base_uri": "https://localhost:8080/"
        },
        "outputId": "b4b487a0-406c-42b0-e6f0-3eaaec55ee70"
      },
      "outputs": [
        {
          "output_type": "stream",
          "name": "stdout",
          "text": [
            "\n",
            "3. Last 10 rows:\n",
            "        Year    City      Sport           Discipline  \\\n",
            "31155  2012  London  Wrestling  Wrestling Freestyle   \n",
            "31156  2012  London  Wrestling  Wrestling Freestyle   \n",
            "31157  2012  London  Wrestling  Wrestling Freestyle   \n",
            "31158  2012  London  Wrestling  Wrestling Freestyle   \n",
            "31159  2012  London  Wrestling  Wrestling Freestyle   \n",
            "31160  2012  London  Wrestling  Wrestling Freestyle   \n",
            "31161  2012  London  Wrestling  Wrestling Freestyle   \n",
            "31162  2012  London  Wrestling  Wrestling Freestyle   \n",
            "31163  2012  London  Wrestling  Wrestling Freestyle   \n",
            "31164  2012  London  Wrestling  Wrestling Freestyle   \n",
            "\n",
            "                            Athlete Country Gender     Event   Medal  \n",
            "31155                 AHMADOV, Emin     AZE    Men  Wg 74 KG  Bronze  \n",
            "31156          KAZAKEVIC, Aleksandr     LTU    Men  Wg 74 KG  Bronze  \n",
            "31157                 KHUGAEV, Alan     RUS    Men  Wg 84 KG    Gold  \n",
            "31158  EBRAHIM, Karam Mohamed Gaber     EGY    Men  Wg 84 KG  Silver  \n",
            "31159               GAJIYEV, Danyal     KAZ    Men  Wg 84 KG  Bronze  \n",
            "31160            JANIKOWSKI, Damian     POL    Men  Wg 84 KG  Bronze  \n",
            "31161     REZAEI, Ghasem Gholamreza     IRI    Men  Wg 96 KG    Gold  \n",
            "31162                TOTROV, Rustam     RUS    Men  Wg 96 KG  Silver  \n",
            "31163             ALEKSANYAN, Artur     ARM    Men  Wg 96 KG  Bronze  \n",
            "31164                LIDBERG, Jimmy     SWE    Men  Wg 96 KG  Bronze  \n"
          ]
        }
      ],
      "source": [
        "#Code here\n",
        "print(\"\\n3. Last 10 rows:\\n\", df.tail(10))"
      ]
    },
    {
      "cell_type": "markdown",
      "metadata": {
        "id": "F53jodYXm2ME"
      },
      "source": [
        "___\n",
        "**4. Write a program to get a summary of the DataFrame (such as the mean, count, etc.) and print the data types of all columns?**"
      ]
    },
    {
      "cell_type": "code",
      "execution_count": null,
      "metadata": {
        "id": "Jf8-scn7m2ME",
        "colab": {
          "base_uri": "https://localhost:8080/"
        },
        "outputId": "cc98fbb4-f4a6-47f7-f24e-d791e9e3a074"
      },
      "outputs": [
        {
          "output_type": "stream",
          "name": "stdout",
          "text": [
            "\n",
            "4. Summary:\n",
            "                 Year    City     Sport Discipline          Athlete Country  \\\n",
            "count   31165.000000   31165     31165      31165            31165   31161   \n",
            "unique           NaN      22        43         67            22762     147   \n",
            "top              NaN  London  Aquatics  Athletics  PHELPS, Michael     USA   \n",
            "freq             NaN    3567      4170       3638               22    4585   \n",
            "mean     1970.482785     NaN       NaN        NaN              NaN     NaN   \n",
            "std        33.158416     NaN       NaN        NaN              NaN     NaN   \n",
            "min      1896.000000     NaN       NaN        NaN              NaN     NaN   \n",
            "25%      1948.000000     NaN       NaN        NaN              NaN     NaN   \n",
            "50%      1980.000000     NaN       NaN        NaN              NaN     NaN   \n",
            "75%      2000.000000     NaN       NaN        NaN              NaN     NaN   \n",
            "max      2012.000000     NaN       NaN        NaN              NaN     NaN   \n",
            "\n",
            "       Gender     Event  Medal  \n",
            "count   31165     31165  31165  \n",
            "unique      2       666      3  \n",
            "top       Men  Football   Gold  \n",
            "freq    22746      1497  10486  \n",
            "mean      NaN       NaN    NaN  \n",
            "std       NaN       NaN    NaN  \n",
            "min       NaN       NaN    NaN  \n",
            "25%       NaN       NaN    NaN  \n",
            "50%       NaN       NaN    NaN  \n",
            "75%       NaN       NaN    NaN  \n",
            "max       NaN       NaN    NaN  \n",
            "Data Types:\n",
            " Year           int64\n",
            "City          object\n",
            "Sport         object\n",
            "Discipline    object\n",
            "Athlete       object\n",
            "Country       object\n",
            "Gender        object\n",
            "Event         object\n",
            "Medal         object\n",
            "dtype: object\n"
          ]
        }
      ],
      "source": [
        "#Code here\n",
        "print(\"\\n4. Summary:\\n\", df.describe(include='all'))\n",
        "print(\"Data Types:\\n\", df.dtypes)"
      ]
    },
    {
      "cell_type": "markdown",
      "metadata": {
        "id": "1Qa4jQAlm2ME"
      },
      "source": [
        "___\n",
        "**5. Write a program to select a single column \"Gender\" from the DataFrame?**"
      ]
    },
    {
      "cell_type": "code",
      "execution_count": null,
      "metadata": {
        "id": "kVCfVte4m2ME",
        "colab": {
          "base_uri": "https://localhost:8080/"
        },
        "outputId": "28b570ea-9ac3-4586-bd9a-c0897cb954c6"
      },
      "outputs": [
        {
          "output_type": "stream",
          "name": "stdout",
          "text": [
            "\n",
            "5. Gender Column:\n",
            " 0        Men\n",
            "1        Men\n",
            "2        Men\n",
            "3        Men\n",
            "4        Men\n",
            "        ... \n",
            "31160    Men\n",
            "31161    Men\n",
            "31162    Men\n",
            "31163    Men\n",
            "31164    Men\n",
            "Name: Gender, Length: 31165, dtype: object\n"
          ]
        }
      ],
      "source": [
        "#Code here\n",
        "print(\"\\n5. Gender Column:\\n\", df['Gender'])"
      ]
    },
    {
      "cell_type": "markdown",
      "metadata": {
        "id": "rxmLBA_5m2ME"
      },
      "source": [
        "___\n",
        "**6. Write a program to select multiple columns \"Year\" and \"City\" from the DataFrame?**"
      ]
    },
    {
      "cell_type": "code",
      "execution_count": null,
      "metadata": {
        "id": "HgDXSaBzm2ME",
        "colab": {
          "base_uri": "https://localhost:8080/"
        },
        "outputId": "47b40ba5-83dd-4ad5-85f6-bd95886a7ed2"
      },
      "outputs": [
        {
          "output_type": "stream",
          "name": "stdout",
          "text": [
            "\n",
            "6. Year and City Columns:\n",
            "        Year    City\n",
            "0      1896  Athens\n",
            "1      1896  Athens\n",
            "2      1896  Athens\n",
            "3      1896  Athens\n",
            "4      1896  Athens\n",
            "...     ...     ...\n",
            "31160  2012  London\n",
            "31161  2012  London\n",
            "31162  2012  London\n",
            "31163  2012  London\n",
            "31164  2012  London\n",
            "\n",
            "[31165 rows x 2 columns]\n"
          ]
        }
      ],
      "source": [
        "#Code here\n",
        "print(\"\\n6. Year and City Columns:\\n\", df[['Year', 'City']])"
      ]
    },
    {
      "cell_type": "markdown",
      "metadata": {
        "id": "RR621DH9m2ME"
      },
      "source": [
        "___\n",
        "**7. Write a program to  filter rows in a DataFrame based on the condition that Gender = Men ?**"
      ]
    },
    {
      "cell_type": "code",
      "execution_count": null,
      "metadata": {
        "id": "-6jOhf_qm2ME",
        "colab": {
          "base_uri": "https://localhost:8080/"
        },
        "outputId": "664a444c-955f-498a-e36b-8b252b65d07c"
      },
      "outputs": [
        {
          "output_type": "stream",
          "name": "stdout",
          "text": [
            "\n",
            "7. Gender = Men:\n",
            "        Year    City      Sport           Discipline  \\\n",
            "0      1896  Athens   Aquatics             Swimming   \n",
            "1      1896  Athens   Aquatics             Swimming   \n",
            "2      1896  Athens   Aquatics             Swimming   \n",
            "3      1896  Athens   Aquatics             Swimming   \n",
            "4      1896  Athens   Aquatics             Swimming   \n",
            "...     ...     ...        ...                  ...   \n",
            "31160  2012  London  Wrestling  Wrestling Freestyle   \n",
            "31161  2012  London  Wrestling  Wrestling Freestyle   \n",
            "31162  2012  London  Wrestling  Wrestling Freestyle   \n",
            "31163  2012  London  Wrestling  Wrestling Freestyle   \n",
            "31164  2012  London  Wrestling  Wrestling Freestyle   \n",
            "\n",
            "                         Athlete Country Gender                       Event  \\\n",
            "0                  HAJOS, Alfred     HUN    Men              100M Freestyle   \n",
            "1               HERSCHMANN, Otto     AUT    Men              100M Freestyle   \n",
            "2              DRIVAS, Dimitrios     GRE    Men  100M Freestyle For Sailors   \n",
            "3             MALOKINIS, Ioannis     GRE    Men  100M Freestyle For Sailors   \n",
            "4             CHASAPIS, Spiridon     GRE    Men  100M Freestyle For Sailors   \n",
            "...                          ...     ...    ...                         ...   \n",
            "31160         JANIKOWSKI, Damian     POL    Men                    Wg 84 KG   \n",
            "31161  REZAEI, Ghasem Gholamreza     IRI    Men                    Wg 96 KG   \n",
            "31162             TOTROV, Rustam     RUS    Men                    Wg 96 KG   \n",
            "31163          ALEKSANYAN, Artur     ARM    Men                    Wg 96 KG   \n",
            "31164             LIDBERG, Jimmy     SWE    Men                    Wg 96 KG   \n",
            "\n",
            "        Medal  \n",
            "0        Gold  \n",
            "1      Silver  \n",
            "2      Bronze  \n",
            "3        Gold  \n",
            "4      Silver  \n",
            "...       ...  \n",
            "31160  Bronze  \n",
            "31161    Gold  \n",
            "31162  Silver  \n",
            "31163  Bronze  \n",
            "31164  Bronze  \n",
            "\n",
            "[22746 rows x 9 columns]\n"
          ]
        }
      ],
      "source": [
        "#Code here\n",
        "print(\"\\n7. Gender = Men:\\n\", df[df['Gender'] == 'Men'])"
      ]
    },
    {
      "cell_type": "markdown",
      "metadata": {
        "id": "24rVH2uLm2ME"
      },
      "source": [
        "___\n",
        "**8. Write a program to select and print the first 5 rows and columns 2 to 6 (inclusive) of the DataFrame. Also, print the type of the resulting object?**"
      ]
    },
    {
      "cell_type": "code",
      "execution_count": null,
      "metadata": {
        "id": "fc1kT-pam2ME",
        "colab": {
          "base_uri": "https://localhost:8080/"
        },
        "outputId": "36ee1d20-df32-4740-9bc1-a39f4a246c01"
      },
      "outputs": [
        {
          "output_type": "stream",
          "name": "stdout",
          "text": [
            "\n",
            "8. Slice:\n",
            "       Sport Discipline             Athlete Country Gender\n",
            "0  Aquatics   Swimming       HAJOS, Alfred     HUN    Men\n",
            "1  Aquatics   Swimming    HERSCHMANN, Otto     AUT    Men\n",
            "2  Aquatics   Swimming   DRIVAS, Dimitrios     GRE    Men\n",
            "3  Aquatics   Swimming  MALOKINIS, Ioannis     GRE    Men\n",
            "4  Aquatics   Swimming  CHASAPIS, Spiridon     GRE    Men\n",
            "Type: <class 'pandas.core.frame.DataFrame'>\n"
          ]
        }
      ],
      "source": [
        "#Code here\n",
        "result = df.iloc[:5, 2:7]\n",
        "print(\"\\n8. Slice:\\n\", result)\n",
        "print(\"Type:\", type(result))"
      ]
    },
    {
      "cell_type": "markdown",
      "metadata": {
        "id": "HIQHrOp9m2MF"
      },
      "source": [
        "[link text](https://)___\n",
        "**9. Write a program to  delete a column \"City\" from the DataFrame and print the new dataframe??**"
      ]
    },
    {
      "cell_type": "code",
      "execution_count": null,
      "metadata": {
        "id": "Vj7EGDH1m2MF",
        "colab": {
          "base_uri": "https://localhost:8080/"
        },
        "outputId": "53af94f4-a92c-476b-b7e7-8338daa2b099"
      },
      "outputs": [
        {
          "output_type": "stream",
          "name": "stdout",
          "text": [
            "\n",
            "9. Without 'City' Column:\n",
            "    Year     Sport Discipline             Athlete Country Gender  \\\n",
            "0  1896  Aquatics   Swimming       HAJOS, Alfred     HUN    Men   \n",
            "1  1896  Aquatics   Swimming    HERSCHMANN, Otto     AUT    Men   \n",
            "2  1896  Aquatics   Swimming   DRIVAS, Dimitrios     GRE    Men   \n",
            "3  1896  Aquatics   Swimming  MALOKINIS, Ioannis     GRE    Men   \n",
            "4  1896  Aquatics   Swimming  CHASAPIS, Spiridon     GRE    Men   \n",
            "\n",
            "                        Event   Medal  \n",
            "0              100M Freestyle    Gold  \n",
            "1              100M Freestyle  Silver  \n",
            "2  100M Freestyle For Sailors  Bronze  \n",
            "3  100M Freestyle For Sailors    Gold  \n",
            "4  100M Freestyle For Sailors  Silver  \n"
          ]
        }
      ],
      "source": [
        "#Code here\n",
        "df_no_city = df.drop(columns=['City'])\n",
        "print(\"\\n9. Without 'City' Column:\\n\", df_no_city.head())"
      ]
    },
    {
      "cell_type": "markdown",
      "metadata": {
        "id": "oxocLbZEm2MF"
      },
      "source": [
        "___\n",
        "**10. Write a program to  rename a column \"Athlete\" to \"Participants\" in the DataFrame?**"
      ]
    },
    {
      "cell_type": "code",
      "execution_count": null,
      "metadata": {
        "id": "HD5JU-J7m2MF",
        "colab": {
          "base_uri": "https://localhost:8080/"
        },
        "outputId": "6a18f1f4-ddc2-415c-fcbe-74c96e2cb244"
      },
      "outputs": [
        {
          "output_type": "stream",
          "name": "stdout",
          "text": [
            "\n",
            "10. Renamed Column:\n",
            "    Year    City     Sport Discipline        Participants Country Gender  \\\n",
            "0  1896  Athens  Aquatics   Swimming       HAJOS, Alfred     HUN    Men   \n",
            "1  1896  Athens  Aquatics   Swimming    HERSCHMANN, Otto     AUT    Men   \n",
            "2  1896  Athens  Aquatics   Swimming   DRIVAS, Dimitrios     GRE    Men   \n",
            "3  1896  Athens  Aquatics   Swimming  MALOKINIS, Ioannis     GRE    Men   \n",
            "4  1896  Athens  Aquatics   Swimming  CHASAPIS, Spiridon     GRE    Men   \n",
            "\n",
            "                        Event   Medal  \n",
            "0              100M Freestyle    Gold  \n",
            "1              100M Freestyle  Silver  \n",
            "2  100M Freestyle For Sailors  Bronze  \n",
            "3  100M Freestyle For Sailors    Gold  \n",
            "4  100M Freestyle For Sailors  Silver  \n"
          ]
        }
      ],
      "source": [
        "#Code here\n",
        "df_renamed = df.rename(columns={'Athlete': 'Participants'})\n",
        "print(\"\\n10. Renamed Column:\\n\", df_renamed.head())"
      ]
    },
    {
      "cell_type": "markdown",
      "metadata": {
        "id": "bvpYy245m2MF"
      },
      "source": [
        "___\n",
        "**11. Write a program to select and print the \"Participants\", \"Medal\" and \"Event\" columns for index 10 and 201 from the DataFrame.?**"
      ]
    },
    {
      "cell_type": "code",
      "execution_count": null,
      "metadata": {
        "id": "OSgRIQdpm2MF",
        "colab": {
          "base_uri": "https://localhost:8080/"
        },
        "outputId": "b10d491f-f965-49f9-a051-fe4846cd1a04"
      },
      "outputs": [
        {
          "output_type": "stream",
          "name": "stdout",
          "text": [
            "\n",
            "11. Specific Rows and Columns:\n",
            "                Athlete   Medal           Event\n",
            "10   PEPANOS, Antonios  Silver  400M Freestyle\n",
            "201    LISTER, William    Gold      Water Polo\n"
          ]
        }
      ],
      "source": [
        "#Code here\n",
        "print(\"\\n11. Specific Rows and Columns:\\n\", df.loc[[10, 201], ['Athlete', 'Medal', 'Event']])"
      ]
    },
    {
      "cell_type": "markdown",
      "metadata": {
        "id": "Zunfeqkym2MF"
      },
      "source": [
        "___\n",
        "**12. Write a program to display the first 10 rows of the df DataFrame and check for any missing values in each column.?**"
      ]
    },
    {
      "cell_type": "code",
      "execution_count": null,
      "metadata": {
        "id": "i-sDeIWNm2MF",
        "colab": {
          "base_uri": "https://localhost:8080/"
        },
        "outputId": "0ca645df-690b-4b92-dcf8-beda6d582a28"
      },
      "outputs": [
        {
          "output_type": "stream",
          "name": "stdout",
          "text": [
            "\n",
            "12. First 10 Rows:\n",
            "    Year    City     Sport Discipline                Athlete Country Gender  \\\n",
            "0  1896  Athens  Aquatics   Swimming          HAJOS, Alfred     HUN    Men   \n",
            "1  1896  Athens  Aquatics   Swimming       HERSCHMANN, Otto     AUT    Men   \n",
            "2  1896  Athens  Aquatics   Swimming      DRIVAS, Dimitrios     GRE    Men   \n",
            "3  1896  Athens  Aquatics   Swimming     MALOKINIS, Ioannis     GRE    Men   \n",
            "4  1896  Athens  Aquatics   Swimming     CHASAPIS, Spiridon     GRE    Men   \n",
            "5  1896  Athens  Aquatics   Swimming  CHOROPHAS, Efstathios     GRE    Men   \n",
            "6  1896  Athens  Aquatics   Swimming          HAJOS, Alfred     HUN    Men   \n",
            "7  1896  Athens  Aquatics   Swimming       ANDREOU, Joannis     GRE    Men   \n",
            "8  1896  Athens  Aquatics   Swimming  CHOROPHAS, Efstathios     GRE    Men   \n",
            "9  1896  Athens  Aquatics   Swimming          NEUMANN, Paul     AUT    Men   \n",
            "\n",
            "                        Event   Medal  \n",
            "0              100M Freestyle    Gold  \n",
            "1              100M Freestyle  Silver  \n",
            "2  100M Freestyle For Sailors  Bronze  \n",
            "3  100M Freestyle For Sailors    Gold  \n",
            "4  100M Freestyle For Sailors  Silver  \n",
            "5             1200M Freestyle  Bronze  \n",
            "6             1200M Freestyle    Gold  \n",
            "7             1200M Freestyle  Silver  \n",
            "8              400M Freestyle  Bronze  \n",
            "9              400M Freestyle    Gold  \n",
            "Missing values:\n",
            " Year          0\n",
            "City          0\n",
            "Sport         0\n",
            "Discipline    0\n",
            "Athlete       0\n",
            "Country       4\n",
            "Gender        0\n",
            "Event         0\n",
            "Medal         0\n",
            "dtype: int64\n"
          ]
        }
      ],
      "source": [
        "#Code here\n",
        "print(\"\\n12. First 10 Rows:\\n\", df.head(10))\n",
        "print(\"Missing values:\\n\", df.isnull().sum())"
      ]
    },
    {
      "cell_type": "markdown",
      "metadata": {
        "id": "CCLtjf9pm2MF"
      },
      "source": [
        "___\n",
        "**13. Write a program to select and print the \"Country\" and \"Medal\" columns from the df DataFrame, and then print the number of unique values in each of these columns.?**"
      ]
    },
    {
      "cell_type": "code",
      "execution_count": null,
      "metadata": {
        "id": "Zc5EF7Okm2MF",
        "colab": {
          "base_uri": "https://localhost:8080/"
        },
        "outputId": "aefda81d-2509-47ab-ac43-0755d6631359"
      },
      "outputs": [
        {
          "output_type": "stream",
          "name": "stdout",
          "text": [
            "\n",
            "13. Country and Medal Columns:\n",
            "       Country   Medal\n",
            "0         HUN    Gold\n",
            "1         AUT  Silver\n",
            "2         GRE  Bronze\n",
            "3         GRE    Gold\n",
            "4         GRE  Silver\n",
            "...       ...     ...\n",
            "31160     POL  Bronze\n",
            "31161     IRI    Gold\n",
            "31162     RUS  Silver\n",
            "31163     ARM  Bronze\n",
            "31164     SWE  Bronze\n",
            "\n",
            "[31165 rows x 2 columns]\n",
            "Unique in Country: 147\n",
            "Unique in Medal: 3\n"
          ]
        }
      ],
      "source": [
        "#Code here\n",
        "print(\"\\n13. Country and Medal Columns:\\n\", df[['Country', 'Medal']])\n",
        "print(\"Unique in Country:\", df['Country'].nunique())\n",
        "print(\"Unique in Medal:\", df['Medal'].nunique())"
      ]
    },
    {
      "cell_type": "markdown",
      "metadata": {
        "id": "FWgnrlx4m2MF"
      },
      "source": [
        "___\n",
        "**14. Write a program to group the df DataFrame by the \"Country\" column and calculate the total number of medals for each country. Print the result.?**"
      ]
    },
    {
      "cell_type": "code",
      "execution_count": null,
      "metadata": {
        "id": "fRVgoVKhm2MG",
        "colab": {
          "base_uri": "https://localhost:8080/"
        },
        "outputId": "5b6012aa-4c59-4887-8f43-1f6a3c9f0027"
      },
      "outputs": [
        {
          "output_type": "stream",
          "name": "stdout",
          "text": [
            "\n",
            "14. Total Medals per Country:\n",
            " Country\n",
            "USA    4585\n",
            "URS    2049\n",
            "GBR    1720\n",
            "FRA    1396\n",
            "GER    1305\n",
            "       ... \n",
            "NIG       1\n",
            "TOG       1\n",
            "TGA       1\n",
            "SUD       1\n",
            "UAE       1\n",
            "Length: 147, dtype: int64\n"
          ]
        }
      ],
      "source": [
        "#Code here\n",
        "medals_per_country = df.groupby('Country').size().sort_values(ascending=False)\n",
        "print(\"\\n14. Total Medals per Country:\\n\", medals_per_country)"
      ]
    },
    {
      "cell_type": "markdown",
      "metadata": {
        "id": "Kr2Yrim7m2MG"
      },
      "source": [
        "___\n",
        "**15. Write a program to sort the df DataFrame by the \"Year\" column in descending order and print the first 5 rows of the sorted DataFrame.?**"
      ]
    },
    {
      "cell_type": "code",
      "execution_count": null,
      "metadata": {
        "id": "z7KZfXgxm2MG",
        "colab": {
          "base_uri": "https://localhost:8080/"
        },
        "outputId": "df56cc6e-a33f-4069-9fea-fe85b8a61fc4"
      },
      "outputs": [
        {
          "output_type": "stream",
          "name": "stdout",
          "text": [
            "\n",
            "15. Sorted by Year Descending:\n",
            "        Year    City      Sport           Discipline  \\\n",
            "31141  2012  London  Wrestling  Wrestling Freestyle   \n",
            "31143  2012  London  Wrestling  Wrestling Freestyle   \n",
            "31164  2012  London  Wrestling  Wrestling Freestyle   \n",
            "31163  2012  London  Wrestling  Wrestling Freestyle   \n",
            "31162  2012  London  Wrestling  Wrestling Freestyle   \n",
            "\n",
            "                                 Athlete Country Gender     Event   Medal  \n",
            "31141  SORYAN REIHANPOUR, Hamid Mohammad     IRI    Men  Wg 55 KG    Gold  \n",
            "31143                       MODOS, Peter     HUN    Men  Wg 55 KG  Bronze  \n",
            "31164                     LIDBERG, Jimmy     SWE    Men  Wg 96 KG  Bronze  \n",
            "31163                  ALEKSANYAN, Artur     ARM    Men  Wg 96 KG  Bronze  \n",
            "31162                     TOTROV, Rustam     RUS    Men  Wg 96 KG  Silver  \n"
          ]
        }
      ],
      "source": [
        "#Code here\n",
        "sorted_df = df.sort_values(by='Year', ascending=False)\n",
        "print(\"\\n15. Sorted by Year Descending:\\n\", sorted_df.head())"
      ]
    },
    {
      "cell_type": "markdown",
      "metadata": {
        "id": "h_C8jJjSm2MG"
      },
      "source": [
        "___\n",
        "**16. Write a program to add a new column \"Century\" to the df DataFrame. Classify each event as occurring in the \"20th Century\" if the \"Year\" is less than 2000, or the \"21st Century\" if the \"Year\" is 2000 or later. Print the first 5 rows to verify the change.**"
      ]
    },
    {
      "cell_type": "code",
      "execution_count": null,
      "metadata": {
        "id": "1-iS6bAim2MG",
        "colab": {
          "base_uri": "https://localhost:8080/"
        },
        "outputId": "3f516c9b-f922-4329-e84a-968fdeec21b4"
      },
      "outputs": [
        {
          "output_type": "stream",
          "name": "stdout",
          "text": [
            "\n",
            "16. Century Column:\n",
            "    Year       Century\n",
            "0  1896  20th Century\n",
            "1  1896  20th Century\n",
            "2  1896  20th Century\n",
            "3  1896  20th Century\n",
            "4  1896  20th Century\n"
          ]
        }
      ],
      "source": [
        "#Code here\n",
        "df['Century'] = df['Year'].apply(lambda x: '20th Century' if x < 2000 else '21st Century')\n",
        "print(\"\\n16. Century Column:\\n\", df[['Year', 'Century']].head())"
      ]
    },
    {
      "cell_type": "markdown",
      "metadata": {
        "id": "BHc07ICSm2MH"
      },
      "source": [
        "___\n",
        "**17. Write a program to filter and print rows from the df DataFrame where the \"Country\" is \"USA\" and the \"Medal\" is \"Gold\". Also, count the number of rows that meet this condition.**"
      ]
    },
    {
      "cell_type": "code",
      "execution_count": null,
      "metadata": {
        "id": "m7C99lk_m2MH",
        "colab": {
          "base_uri": "https://localhost:8080/"
        },
        "outputId": "d8b3ffbc-50ed-475c-99b6-521907130a5b"
      },
      "outputs": [
        {
          "output_type": "stream",
          "name": "stdout",
          "text": [
            "\n",
            "17. USA Gold Medals:\n",
            "        Year    City       Sport           Discipline  \\\n",
            "13     1896  Athens   Athletics            Athletics   \n",
            "15     1896  Athens   Athletics            Athletics   \n",
            "21     1896  Athens   Athletics            Athletics   \n",
            "27     1896  Athens   Athletics            Athletics   \n",
            "29     1896  Athens   Athletics            Athletics   \n",
            "...     ...     ...         ...                  ...   \n",
            "30955  2012  London      Tennis               Tennis   \n",
            "30970  2012  London  Volleyball     Beach Volleyball   \n",
            "30971  2012  London  Volleyball     Beach Volleyball   \n",
            "31125  2012  London   Wrestling  Wrestling Freestyle   \n",
            "31133  2012  London   Wrestling  Wrestling Freestyle   \n",
            "\n",
            "                        Athlete Country Gender             Event Medal  \\\n",
            "13                BURKE, Thomas     USA    Men              100M  Gold   \n",
            "15               CURTIS, Thomas     USA    Men      110M Hurdles  Gold   \n",
            "21                BURKE, Thomas     USA    Men              400M  Gold   \n",
            "27              GARRETT, Robert     USA    Men      Discus Throw  Gold   \n",
            "29                CLARK, Ellery     USA    Men         High Jump  Gold   \n",
            "...                         ...     ...    ...               ...   ...   \n",
            "30955          WILLIAMS, Serena     USA  Women           Singles  Gold   \n",
            "30970                MAY, Misty     USA  Women  Beach Volleyball  Gold   \n",
            "30971     WALSH JENNINGS, Kerri     USA  Women  Beach Volleyball  Gold   \n",
            "31125  BURROUGHS, Jordan Ernest     USA    Men          Wf 74 KG  Gold   \n",
            "31133     VARNER, Jacob Stephen     USA    Men          Wf 96 KG  Gold   \n",
            "\n",
            "            Century  \n",
            "13     20th Century  \n",
            "15     20th Century  \n",
            "21     20th Century  \n",
            "27     20th Century  \n",
            "29     20th Century  \n",
            "...             ...  \n",
            "30955  21st Century  \n",
            "30970  21st Century  \n",
            "30971  21st Century  \n",
            "31125  21st Century  \n",
            "31133  21st Century  \n",
            "\n",
            "[2235 rows x 10 columns]\n",
            "Total: 2235\n"
          ]
        }
      ],
      "source": [
        "#Code here\n",
        "usa_gold = df[(df['Country'] == 'USA') & (df['Medal'] == 'Gold')]\n",
        "print(\"\\n17. USA Gold Medals:\\n\", usa_gold)\n",
        "print(\"Total:\", len(usa_gold))"
      ]
    },
    {
      "cell_type": "markdown",
      "metadata": {
        "id": "MhnhQ1Erm2MH"
      },
      "source": [
        "___\n",
        "**18. Write a program to create a new column \"Medal Points\" in the df DataFrame. Assign 3 points for \"Gold\", 2 points for \"Silver\", and 1 point for \"Bronze\". Print the first 5 rows to verify the changes.**"
      ]
    },
    {
      "cell_type": "code",
      "execution_count": null,
      "metadata": {
        "id": "6f_CLPsom2MH",
        "colab": {
          "base_uri": "https://localhost:8080/"
        },
        "outputId": "13b694ac-3793-4132-a744-e184e6cb1825"
      },
      "outputs": [
        {
          "output_type": "stream",
          "name": "stdout",
          "text": [
            "\n",
            "18. Medal Points:\n",
            "     Medal  Medal Points\n",
            "0    Gold             3\n",
            "1  Silver             2\n",
            "2  Bronze             1\n",
            "3    Gold             3\n",
            "4  Silver             2\n"
          ]
        }
      ],
      "source": [
        "#Code here\n",
        "medal_points = {'Gold': 3, 'Silver': 2, 'Bronze': 1}\n",
        "df['Medal Points'] = df['Medal'].map(medal_points)\n",
        "print(\"\\n18. Medal Points:\\n\", df[['Medal', 'Medal Points']].head())"
      ]
    },
    {
      "cell_type": "markdown",
      "metadata": {
        "id": "_w8CAZoGm2MH"
      },
      "source": [
        "___\n",
        "**19. Write a program to filter the df DataFrame to include only rows where the \"Country\" is \"USA\". Then, group the filtered DataFrame by \"Year\" and calculate the total number of medals won by the USA each year. Print the results.**"
      ]
    },
    {
      "cell_type": "code",
      "execution_count": null,
      "metadata": {
        "id": "PZwGcKaEm2MH",
        "colab": {
          "base_uri": "https://localhost:8080/"
        },
        "outputId": "935ffbc5-da58-45ba-f632-d92193672daf"
      },
      "outputs": [
        {
          "output_type": "stream",
          "name": "stdout",
          "text": [
            "\n",
            "19. USA Medals by Year:\n",
            " Year\n",
            "1896     20\n",
            "1900     55\n",
            "1904    394\n",
            "1908     63\n",
            "1912    101\n",
            "1920    193\n",
            "1924    198\n",
            "1928     84\n",
            "1932    181\n",
            "1936     92\n",
            "1948    148\n",
            "1952    130\n",
            "1956    118\n",
            "1960    112\n",
            "1964    150\n",
            "1968    149\n",
            "1972    155\n",
            "1976    155\n",
            "1984    333\n",
            "1988    193\n",
            "1992    224\n",
            "1996    260\n",
            "2000    248\n",
            "2004    264\n",
            "2008    315\n",
            "2012    250\n",
            "dtype: int64\n"
          ]
        }
      ],
      "source": [
        "#Code here\n",
        "usa = df[df['Country'] == 'USA']\n",
        "usa_by_year = usa.groupby('Year').size()\n",
        "print(\"\\n19. USA Medals by Year:\\n\", usa_by_year)"
      ]
    },
    {
      "cell_type": "markdown",
      "metadata": {
        "id": "Fo3Zq-mTm2MH"
      },
      "source": [
        "___\n",
        "**20. Write a program to identify the athlete who has won the most medals. Display the athlete's name and the total number of medals they have won.**"
      ]
    },
    {
      "cell_type": "code",
      "execution_count": null,
      "metadata": {
        "id": "qF5-f6sKm2MH",
        "colab": {
          "base_uri": "https://localhost:8080/"
        },
        "outputId": "ec801aaf-4051-4ccb-e847-786b14a52ea7"
      },
      "outputs": [
        {
          "output_type": "stream",
          "name": "stdout",
          "text": [
            "\n",
            "20. Top Athlete:\n",
            " PHELPS, Michael - 22 medals\n"
          ]
        }
      ],
      "source": [
        "#Code here\n",
        "top_athlete = df['Athlete'].value_counts().idxmax()\n",
        "total_medals = df['Athlete'].value_counts().max()\n",
        "print(\"\\n20. Top Athlete:\\n\", top_athlete, \"-\", total_medals, \"medals\")"
      ]
    },
    {
      "cell_type": "markdown",
      "metadata": {
        "id": "QPwEMGiOm2MH"
      },
      "source": [
        "___\n",
        "**21. Write a program to group the df DataFrame by the \"Sport\" column and calculate the number of each type of medal (Gold, Silver, Bronze) for each sport. Print the results.**"
      ]
    },
    {
      "cell_type": "code",
      "execution_count": null,
      "metadata": {
        "id": "L7LEmyW8m2MH",
        "colab": {
          "base_uri": "https://localhost:8080/"
        },
        "outputId": "b822f252-2bc2-44eb-c0e4-eab9292ff369"
      },
      "outputs": [
        {
          "output_type": "stream",
          "name": "stdout",
          "text": [
            "\n",
            "21. Medals by Sport:\n",
            " Medal              Bronze  Gold  Silver\n",
            "Sport                                  \n",
            "Aquatics             1365  1421    1384\n",
            "Archery                90   126     113\n",
            "Athletics            1199  1215    1224\n",
            "Badminton              52    46      46\n",
            "Baseball              112   111     112\n",
            "Basketball            334   342     336\n",
            "Basque Pelota           0     2       2\n",
            "Boxing                416   239     239\n",
            "Canoe                  27    27      27\n",
            "Canoe / Kayak         334   334     334\n",
            "Cricket                 0    12      12\n",
            "Croquet                 2     4       2\n",
            "Cycling               365   371     369\n",
            "Equestrian            306   320     313\n",
            "Fencing               519   552     542\n",
            "Football              509   503     485\n",
            "Golf                    4    13      13\n",
            "Gymnastics            731   820     756\n",
            "Handball              323   321     329\n",
            "Hockey                459   486     477\n",
            "Ice Hockey              8     8      11\n",
            "Jeu de paume            1     1       1\n",
            "Judo                  246   123     122\n",
            "Lacrosse                0    28      31\n",
            "Modern Pentathlon      60    60      60\n",
            "Polo                   17    22      27\n",
            "Rackets                 4     3       3\n",
            "Roque                   1     1       1\n",
            "Rowing                888   890     889\n",
            "Rugby                  23    78      91\n",
            "Sailing               325   412     372\n",
            "Shooting              380   384     386\n",
            "Skating                 9     9       9\n",
            "Softball               60    60      60\n",
            "Table Tennis           52    46      46\n",
            "Taekwondo              48    32      32\n",
            "Tennis                114    92      90\n",
            "Triathlon               8     8       8\n",
            "Tug of War             22    36      36\n",
            "Volleyball            331   332     331\n",
            "Water Motorsports       0     5       0\n",
            "Weightlifting         197   200     196\n",
            "Wrestling             428   391     393\n"
          ]
        }
      ],
      "source": [
        "#Code here\n",
        "medals_by_sport = df.pivot_table(index='Sport', columns='Medal', aggfunc='size', fill_value=0)\n",
        "print(\"\\n21. Medals by Sport:\\n\", medals_by_sport)"
      ]
    },
    {
      "cell_type": "markdown",
      "metadata": {
        "id": "pBOrlEawm2MH"
      },
      "source": [
        "### Good Luck!"
      ]
    }
  ],
  "metadata": {
    "kernelspec": {
      "display_name": "Python 3 (ipykernel)",
      "language": "python",
      "name": "python3"
    },
    "language_info": {
      "codemirror_mode": {
        "name": "ipython",
        "version": 3
      },
      "file_extension": ".py",
      "mimetype": "text/x-python",
      "name": "python",
      "nbconvert_exporter": "python",
      "pygments_lexer": "ipython3",
      "version": "3.11.7"
    },
    "colab": {
      "provenance": []
    }
  },
  "nbformat": 4,
  "nbformat_minor": 0
}